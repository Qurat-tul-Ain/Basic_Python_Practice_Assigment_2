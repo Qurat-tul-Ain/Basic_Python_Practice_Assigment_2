{
  "nbformat": 4,
  "nbformat_minor": 0,
  "metadata": {
    "colab": {
      "provenance": [],
      "authorship_tag": "ABX9TyPuwCyOalXxh1ExuyAC2Q70",
      "include_colab_link": true
    },
    "kernelspec": {
      "name": "python3",
      "display_name": "Python 3"
    },
    "language_info": {
      "name": "python"
    }
  },
  "cells": [
    {
      "cell_type": "markdown",
      "metadata": {
        "id": "view-in-github",
        "colab_type": "text"
      },
      "source": [
        "<a href=\"https://colab.research.google.com/github/Qurat-tul-Ain/Basic_Python_Practice_Assigment_2/blob/main/Basic_Python_ASSIGNEMENT_2_.ipynb\" target=\"_parent\"><img src=\"https://colab.research.google.com/assets/colab-badge.svg\" alt=\"Open In Colab\"/></a>"
      ]
    },
    {
      "cell_type": "code",
      "execution_count": null,
      "metadata": {
        "colab": {
          "base_uri": "https://localhost:8080/"
        },
        "id": "7EqJa1EPdD5G",
        "outputId": "dc3991ca-8379-4625-ff13-8e7e7a602cb0"
      },
      "outputs": [
        {
          "output_type": "stream",
          "name": "stdout",
          "text": [
            "12\n",
            "33.0\n",
            "200\n",
            "200\n",
            "<class 'str'>\n",
            "<class 'int'>\n",
            "<class 'float'>\n",
            "<class 'int'>\n",
            "<class 'str'>\n"
          ]
        }
      ],
      "source": [
        "#typecatsing / type conversion\n",
        "a = 12.5\n",
        "b = 33\n",
        "c = \"200\"\n",
        "d = 80\n",
        "\n",
        "print(int(a))           # converted float into int\n",
        "print(float(b))         #  converted int into float\n",
        "print(int(c))           # converted str into int\n",
        "print(c)                # str\n",
        "print(type(str(d)))\n",
        "#-----------------------------\n",
        " # type check\n",
        "\n",
        "print(type(int(a)))\n",
        "print(type(float(b)))\n",
        "print(type(int(c)))\n",
        "print(type(str(c)))\n",
        "#-----------------------------"
      ]
    },
    {
      "cell_type": "code",
      "source": [
        "#escaping characters\n",
        "\n",
        "name = \"my name is abc \\n i love python\"\n",
        "print(name)\n",
        "name = \"my name is \\\"abc\\\" \"\n",
        "print(name)\n",
        "name = \"my name is \\\\abc\\\\ \"\n",
        "print(name)\n",
        "place  = \"karachi is \\t beautiful\"\n",
        "print(place)"
      ],
      "metadata": {
        "colab": {
          "base_uri": "https://localhost:8080/"
        },
        "id": "JBZLnJRrhiwW",
        "outputId": "dfc064b0-b634-4ea9-9713-c8c069667885"
      },
      "execution_count": null,
      "outputs": [
        {
          "output_type": "stream",
          "name": "stdout",
          "text": [
            "my name is abc \n",
            " i love python\n",
            "my name is \"abc\" \n",
            "my name is \\abc\\ \n",
            "karachi is \t beautiful\n",
            "i love python\n",
            "i love python\n"
          ]
        }
      ]
    },
    {
      "cell_type": "code",
      "source": [
        "import random\n",
        "random.randrange(1,100)"
      ],
      "metadata": {
        "id": "29YSsUltjUrP",
        "colab": {
          "base_uri": "https://localhost:8080/"
        },
        "outputId": "0a447df1-62c0-4b42-da54-49facdb4f019"
      },
      "execution_count": 3,
      "outputs": [
        {
          "output_type": "execute_result",
          "data": {
            "text/plain": [
              "51"
            ]
          },
          "metadata": {},
          "execution_count": 3
        }
      ]
    },
    {
      "cell_type": "code",
      "source": [
        "import random\n",
        "dice = random.randint(1,6)\n",
        "print(dice)\n",
        "\n"
      ],
      "metadata": {
        "colab": {
          "base_uri": "https://localhost:8080/"
        },
        "id": "__KxGyx_9l-K",
        "outputId": "5ffe9bb8-088c-42c6-b7b7-9034e7ba96bd"
      },
      "execution_count": 18,
      "outputs": [
        {
          "output_type": "stream",
          "name": "stdout",
          "text": [
            "5\n"
          ]
        }
      ]
    },
    {
      "cell_type": "code",
      "source": [
        "# Multiline string\n",
        "\n",
        "x = \"\"\"I love Pakistan\n",
        "       my country is very beautiful \"\"\"\n",
        "print(x)\n",
        "print(len(x))  # length"
      ],
      "metadata": {
        "colab": {
          "base_uri": "https://localhost:8080/"
        },
        "id": "zEsVoobY-GQs",
        "outputId": "5e494692-9dd3-40d1-f211-f6da65b585f7"
      },
      "execution_count": 9,
      "outputs": [
        {
          "output_type": "stream",
          "name": "stdout",
          "text": [
            "I love Pakistan \n",
            "       my country is very beautiful \n",
            "53\n",
            "False\n"
          ]
        }
      ]
    },
    {
      "cell_type": "code",
      "source": [
        "a = (\"alphabet\", 12, 00, \"abc\")\n",
        "print(type(a))  # immutable\n",
        "\n",
        "#y = 'i love Pakistan'\n",
        "#print(y[:0], 'y'[2:])\n",
        "\n",
        "\n",
        "#mutable\n",
        "x = [\"apple\",\"banana\",\"grapes\"]\n",
        "x +=  [\"cherry\",\"watermelon\"]\n",
        "print(x)\n",
        "\n"
      ],
      "metadata": {
        "colab": {
          "base_uri": "https://localhost:8080/"
        },
        "id": "18Cs-B0S_agS",
        "outputId": "6862e755-7b3f-4b90-902e-31c2049fe63a"
      },
      "execution_count": 2,
      "outputs": [
        {
          "output_type": "stream",
          "name": "stdout",
          "text": [
            "<class 'tuple'>\n",
            "['apple', 'banana', 'grapes', 'cherry', 'watermelon']\n"
          ]
        }
      ]
    },
    {
      "cell_type": "code",
      "source": [
        "# slicing\n",
        "\n",
        "abc = \"i love Pakistan\"\n",
        "print(abc[0:2])\n",
        "print(abc[1:5])\n",
        "print(abc[3:8])\n",
        "print(abc[4:10], abc[0:6], abc[2:9])"
      ],
      "metadata": {
        "colab": {
          "base_uri": "https://localhost:8080/"
        },
        "id": "g3ZzNZOgUrlc",
        "outputId": "db613210-9c7b-4b48-c01b-2d3691706be8"
      },
      "execution_count": 8,
      "outputs": [
        {
          "output_type": "stream",
          "name": "stdout",
          "text": [
            "i \n",
            " lov\n",
            "ove P\n",
            "ve Pak i love love Pa\n"
          ]
        }
      ]
    }
  ]
}